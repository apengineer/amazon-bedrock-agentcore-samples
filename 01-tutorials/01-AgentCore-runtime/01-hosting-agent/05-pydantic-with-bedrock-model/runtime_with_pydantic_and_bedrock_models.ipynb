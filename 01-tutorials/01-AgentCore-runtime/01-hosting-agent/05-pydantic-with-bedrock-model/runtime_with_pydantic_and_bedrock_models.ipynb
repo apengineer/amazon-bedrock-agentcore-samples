{
 "cells": [
  {
   "cell_type": "markdown",
   "id": "0ab6ffb8",
   "metadata": {},
   "source": [
    "# Hosting Strands Agents with Amazon Bedrock models in Amazon Bedrock AgentCore Runtime\n",
    "\n",
    "## Overview\n",
    "\n",
    "In this tutorial we will learn how to host your existing agent, using Amazon Bedrock AgentCore Runtime. We will provide examples using Amazon Bedrock models and non-Bedrock models such as Azure OpenAI and Gemini.\n",
    "\n",
    "\n",
    "### Tutorial Details\n",
    "\n",
    "\n",
    "| Information         | Details                                                                          |\n",
    "|:--------------------|:---------------------------------------------------------------------------------|\n",
    "| Tutorial type       | Conversational                                                                   |\n",
    "| Agent type          | Single                                                                           |\n",
    "| Agentic Framework   | Pydantic AI                                                                   |\n",
    "| LLM model           | Anthropic Claude Sonnet 4                                                        |\n",
    "| Tutorial components | Hosting agent on AgentCore Runtime. Using pydantic Agent and Amazon Bedrock Model |\n",
    "| Tutorial vertical   | Cross-vertical                                                                   |\n",
    "| Example complexity  | Easy                                                                             |\n",
    "| SDK used            | Amazon BedrockAgentCore Python SDK and boto3                                     |\n",
    "\n",
    "### Tutorial Architecture\n",
    "\n",
    "In this tutorial we will describe how to deploy an existing agent to AgentCore runtime. \n",
    "\n",
    "For demonstration purposes, we will  use a Strands Agent using Amazon Bedrock models\n",
    "\n",
    "In our example we will use a very simple agent with two tools: `get_weather` and `get_time`. \n",
    "\n",
    "<div style=\"text-align:left\">\n",
    "    <img src=\"images/architecture_runtime.png\" width=\"50%\"/>\n",
    "</div>\n",
    "\n",
    "### Tutorial Key Features\n",
    "\n",
    "* Hosting Agents on Amazon Bedrock AgentCore Runtime\n",
    "* Using Amazon Bedrock models\n",
    "* Using Pydantic AI\n"
   ]
  },
  {
   "cell_type": "code",
   "execution_count": 1,
   "id": "c6de46ec",
   "metadata": {},
   "outputs": [
    {
     "name": "stdout",
     "output_type": "stream",
     "text": [
      "Requirement already satisfied: pydantic-ai in c:\\users\\aswpras\\appdata\\local\\programs\\python\\python313\\lib\\site-packages (from -r requirements.txt (line 1)) (0.7.0)\n",
      "Requirement already satisfied: uv in c:\\users\\aswpras\\appdata\\local\\programs\\python\\python313\\lib\\site-packages (from -r requirements.txt (line 2)) (0.8.9)\n",
      "Requirement already satisfied: boto3 in c:\\users\\aswpras\\appdata\\local\\programs\\python\\python313\\lib\\site-packages (from -r requirements.txt (line 3)) (1.39.15)\n",
      "Requirement already satisfied: bedrock-agentcore in c:\\users\\aswpras\\appdata\\local\\programs\\python\\python313\\lib\\site-packages (from -r requirements.txt (line 4)) (0.1.2)\n",
      "Requirement already satisfied: bedrock-agentcore-starter-toolkit in c:\\users\\aswpras\\appdata\\local\\programs\\python\\python313\\lib\\site-packages (from -r requirements.txt (line 5)) (0.1.6)\n",
      "Requirement already satisfied: pydantic-ai-slim==0.7.0 in c:\\users\\aswpras\\appdata\\local\\programs\\python\\python313\\lib\\site-packages (from pydantic-ai-slim[ag-ui,anthropic,bedrock,cli,cohere,evals,google,groq,huggingface,mcp,mistral,openai,retries,temporal,vertexai]==0.7.0->pydantic-ai->-r requirements.txt (line 1)) (0.7.0)\n",
      "Requirement already satisfied: eval-type-backport>=0.2.0 in c:\\users\\aswpras\\appdata\\local\\programs\\python\\python313\\lib\\site-packages (from pydantic-ai-slim==0.7.0->pydantic-ai-slim[ag-ui,anthropic,bedrock,cli,cohere,evals,google,groq,huggingface,mcp,mistral,openai,retries,temporal,vertexai]==0.7.0->pydantic-ai->-r requirements.txt (line 1)) (0.2.2)\n",
      "Requirement already satisfied: griffe>=1.3.2 in c:\\users\\aswpras\\appdata\\local\\programs\\python\\python313\\lib\\site-packages (from pydantic-ai-slim==0.7.0->pydantic-ai-slim[ag-ui,anthropic,bedrock,cli,cohere,evals,google,groq,huggingface,mcp,mistral,openai,retries,temporal,vertexai]==0.7.0->pydantic-ai->-r requirements.txt (line 1)) (1.11.1)\n",
      "Requirement already satisfied: httpx>=0.27 in c:\\users\\aswpras\\appdata\\local\\programs\\python\\python313\\lib\\site-packages (from pydantic-ai-slim==0.7.0->pydantic-ai-slim[ag-ui,anthropic,bedrock,cli,cohere,evals,google,groq,huggingface,mcp,mistral,openai,retries,temporal,vertexai]==0.7.0->pydantic-ai->-r requirements.txt (line 1)) (0.28.1)\n",
      "Requirement already satisfied: opentelemetry-api>=1.28.0 in c:\\users\\aswpras\\appdata\\local\\programs\\python\\python313\\lib\\site-packages (from pydantic-ai-slim==0.7.0->pydantic-ai-slim[ag-ui,anthropic,bedrock,cli,cohere,evals,google,groq,huggingface,mcp,mistral,openai,retries,temporal,vertexai]==0.7.0->pydantic-ai->-r requirements.txt (line 1)) (1.36.0)\n",
      "Requirement already satisfied: pydantic-graph==0.7.0 in c:\\users\\aswpras\\appdata\\local\\programs\\python\\python313\\lib\\site-packages (from pydantic-ai-slim==0.7.0->pydantic-ai-slim[ag-ui,anthropic,bedrock,cli,cohere,evals,google,groq,huggingface,mcp,mistral,openai,retries,temporal,vertexai]==0.7.0->pydantic-ai->-r requirements.txt (line 1)) (0.7.0)\n",
      "Requirement already satisfied: pydantic>=2.10 in c:\\users\\aswpras\\appdata\\local\\programs\\python\\python313\\lib\\site-packages (from pydantic-ai-slim==0.7.0->pydantic-ai-slim[ag-ui,anthropic,bedrock,cli,cohere,evals,google,groq,huggingface,mcp,mistral,openai,retries,temporal,vertexai]==0.7.0->pydantic-ai->-r requirements.txt (line 1)) (2.11.7)\n",
      "Requirement already satisfied: typing-inspection>=0.4.0 in c:\\users\\aswpras\\appdata\\local\\programs\\python\\python313\\lib\\site-packages (from pydantic-ai-slim==0.7.0->pydantic-ai-slim[ag-ui,anthropic,bedrock,cli,cohere,evals,google,groq,huggingface,mcp,mistral,openai,retries,temporal,vertexai]==0.7.0->pydantic-ai->-r requirements.txt (line 1)) (0.4.1)\n",
      "Requirement already satisfied: ag-ui-protocol>=0.1.8 in c:\\users\\aswpras\\appdata\\local\\programs\\python\\python313\\lib\\site-packages (from pydantic-ai-slim[ag-ui,anthropic,bedrock,cli,cohere,evals,google,groq,huggingface,mcp,mistral,openai,retries,temporal,vertexai]==0.7.0->pydantic-ai->-r requirements.txt (line 1)) (0.1.8)\n",
      "Requirement already satisfied: starlette>=0.45.3 in c:\\users\\aswpras\\appdata\\local\\programs\\python\\python313\\lib\\site-packages (from pydantic-ai-slim[ag-ui,anthropic,bedrock,cli,cohere,evals,google,groq,huggingface,mcp,mistral,openai,retries,temporal,vertexai]==0.7.0->pydantic-ai->-r requirements.txt (line 1)) (0.47.2)\n",
      "Requirement already satisfied: anthropic>=0.61.0 in c:\\users\\aswpras\\appdata\\local\\programs\\python\\python313\\lib\\site-packages (from pydantic-ai-slim[ag-ui,anthropic,bedrock,cli,cohere,evals,google,groq,huggingface,mcp,mistral,openai,retries,temporal,vertexai]==0.7.0->pydantic-ai->-r requirements.txt (line 1)) (0.63.0)\n",
      "Requirement already satisfied: argcomplete>=3.5.0 in c:\\users\\aswpras\\appdata\\local\\programs\\python\\python313\\lib\\site-packages (from pydantic-ai-slim[ag-ui,anthropic,bedrock,cli,cohere,evals,google,groq,huggingface,mcp,mistral,openai,retries,temporal,vertexai]==0.7.0->pydantic-ai->-r requirements.txt (line 1)) (3.6.2)\n",
      "Requirement already satisfied: prompt-toolkit>=3 in c:\\users\\aswpras\\appdata\\roaming\\python\\python313\\site-packages (from pydantic-ai-slim[ag-ui,anthropic,bedrock,cli,cohere,evals,google,groq,huggingface,mcp,mistral,openai,retries,temporal,vertexai]==0.7.0->pydantic-ai->-r requirements.txt (line 1)) (3.0.51)\n",
      "Requirement already satisfied: rich>=13 in c:\\users\\aswpras\\appdata\\local\\programs\\python\\python313\\lib\\site-packages (from pydantic-ai-slim[ag-ui,anthropic,bedrock,cli,cohere,evals,google,groq,huggingface,mcp,mistral,openai,retries,temporal,vertexai]==0.7.0->pydantic-ai->-r requirements.txt (line 1)) (14.1.0)\n",
      "Requirement already satisfied: cohere>=5.16.0 in c:\\users\\aswpras\\appdata\\local\\programs\\python\\python313\\lib\\site-packages (from pydantic-ai-slim[ag-ui,anthropic,bedrock,cli,cohere,evals,google,groq,huggingface,mcp,mistral,openai,retries,temporal,vertexai]==0.7.0->pydantic-ai->-r requirements.txt (line 1)) (5.17.0)\n",
      "Requirement already satisfied: pydantic-evals==0.7.0 in c:\\users\\aswpras\\appdata\\local\\programs\\python\\python313\\lib\\site-packages (from pydantic-ai-slim[ag-ui,anthropic,bedrock,cli,cohere,evals,google,groq,huggingface,mcp,mistral,openai,retries,temporal,vertexai]==0.7.0->pydantic-ai->-r requirements.txt (line 1)) (0.7.0)\n",
      "Requirement already satisfied: google-genai>=1.28.0 in c:\\users\\aswpras\\appdata\\local\\programs\\python\\python313\\lib\\site-packages (from pydantic-ai-slim[ag-ui,anthropic,bedrock,cli,cohere,evals,google,groq,huggingface,mcp,mistral,openai,retries,temporal,vertexai]==0.7.0->pydantic-ai->-r requirements.txt (line 1)) (1.29.0)\n",
      "Requirement already satisfied: groq>=0.25.0 in c:\\users\\aswpras\\appdata\\local\\programs\\python\\python313\\lib\\site-packages (from pydantic-ai-slim[ag-ui,anthropic,bedrock,cli,cohere,evals,google,groq,huggingface,mcp,mistral,openai,retries,temporal,vertexai]==0.7.0->pydantic-ai->-r requirements.txt (line 1)) (0.31.0)\n",
      "Requirement already satisfied: huggingface-hub>=0.33.5 in c:\\users\\aswpras\\appdata\\local\\programs\\python\\python313\\lib\\site-packages (from huggingface-hub[inference]>=0.33.5; extra == \"huggingface\"->pydantic-ai-slim[ag-ui,anthropic,bedrock,cli,cohere,evals,google,groq,huggingface,mcp,mistral,openai,retries,temporal,vertexai]==0.7.0->pydantic-ai->-r requirements.txt (line 1)) (0.34.4)\n",
      "Requirement already satisfied: mcp>=1.10.0 in c:\\users\\aswpras\\appdata\\local\\programs\\python\\python313\\lib\\site-packages (from pydantic-ai-slim[ag-ui,anthropic,bedrock,cli,cohere,evals,google,groq,huggingface,mcp,mistral,openai,retries,temporal,vertexai]==0.7.0->pydantic-ai->-r requirements.txt (line 1)) (1.12.4)\n",
      "Requirement already satisfied: mistralai>=1.9.2 in c:\\users\\aswpras\\appdata\\local\\programs\\python\\python313\\lib\\site-packages (from pydantic-ai-slim[ag-ui,anthropic,bedrock,cli,cohere,evals,google,groq,huggingface,mcp,mistral,openai,retries,temporal,vertexai]==0.7.0->pydantic-ai->-r requirements.txt (line 1)) (1.9.3)\n",
      "Requirement already satisfied: openai>=1.92.0 in c:\\users\\aswpras\\appdata\\local\\programs\\python\\python313\\lib\\site-packages (from pydantic-ai-slim[ag-ui,anthropic,bedrock,cli,cohere,evals,google,groq,huggingface,mcp,mistral,openai,retries,temporal,vertexai]==0.7.0->pydantic-ai->-r requirements.txt (line 1)) (1.99.9)\n",
      "Requirement already satisfied: tenacity>=8.2.3 in c:\\users\\aswpras\\appdata\\local\\programs\\python\\python313\\lib\\site-packages (from pydantic-ai-slim[ag-ui,anthropic,bedrock,cli,cohere,evals,google,groq,huggingface,mcp,mistral,openai,retries,temporal,vertexai]==0.7.0->pydantic-ai->-r requirements.txt (line 1)) (9.1.2)\n",
      "Requirement already satisfied: temporalio>=1.15.0 in c:\\users\\aswpras\\appdata\\local\\programs\\python\\python313\\lib\\site-packages (from pydantic-ai-slim[ag-ui,anthropic,bedrock,cli,cohere,evals,google,groq,huggingface,mcp,mistral,openai,retries,temporal,vertexai]==0.7.0->pydantic-ai->-r requirements.txt (line 1)) (1.15.0)\n",
      "Requirement already satisfied: google-auth>=2.36.0 in c:\\users\\aswpras\\appdata\\local\\programs\\python\\python313\\lib\\site-packages (from pydantic-ai-slim[ag-ui,anthropic,bedrock,cli,cohere,evals,google,groq,huggingface,mcp,mistral,openai,retries,temporal,vertexai]==0.7.0->pydantic-ai->-r requirements.txt (line 1)) (2.40.3)\n",
      "Requirement already satisfied: requests>=2.32.2 in c:\\users\\aswpras\\appdata\\local\\programs\\python\\python313\\lib\\site-packages (from pydantic-ai-slim[ag-ui,anthropic,bedrock,cli,cohere,evals,google,groq,huggingface,mcp,mistral,openai,retries,temporal,vertexai]==0.7.0->pydantic-ai->-r requirements.txt (line 1)) (2.32.4)\n",
      "Requirement already satisfied: anyio>=0 in c:\\users\\aswpras\\appdata\\local\\programs\\python\\python313\\lib\\site-packages (from pydantic-evals==0.7.0->pydantic-ai-slim[ag-ui,anthropic,bedrock,cli,cohere,evals,google,groq,huggingface,mcp,mistral,openai,retries,temporal,vertexai]==0.7.0->pydantic-ai->-r requirements.txt (line 1)) (4.10.0)\n",
      "Requirement already satisfied: logfire-api>=3.14.1 in c:\\users\\aswpras\\appdata\\local\\programs\\python\\python313\\lib\\site-packages (from pydantic-evals==0.7.0->pydantic-ai-slim[ag-ui,anthropic,bedrock,cli,cohere,evals,google,groq,huggingface,mcp,mistral,openai,retries,temporal,vertexai]==0.7.0->pydantic-ai->-r requirements.txt (line 1)) (4.3.2)\n",
      "Requirement already satisfied: pyyaml>=6.0.2 in c:\\users\\aswpras\\appdata\\local\\programs\\python\\python313\\lib\\site-packages (from pydantic-evals==0.7.0->pydantic-ai-slim[ag-ui,anthropic,bedrock,cli,cohere,evals,google,groq,huggingface,mcp,mistral,openai,retries,temporal,vertexai]==0.7.0->pydantic-ai->-r requirements.txt (line 1)) (6.0.2)\n",
      "Requirement already satisfied: botocore<1.40.0,>=1.39.15 in c:\\users\\aswpras\\appdata\\local\\programs\\python\\python313\\lib\\site-packages (from boto3->-r requirements.txt (line 3)) (1.39.15)\n",
      "Requirement already satisfied: jmespath<2.0.0,>=0.7.1 in c:\\users\\aswpras\\appdata\\local\\programs\\python\\python313\\lib\\site-packages (from boto3->-r requirements.txt (line 3)) (1.0.1)\n",
      "Requirement already satisfied: s3transfer<0.14.0,>=0.13.0 in c:\\users\\aswpras\\appdata\\local\\programs\\python\\python313\\lib\\site-packages (from boto3->-r requirements.txt (line 3)) (0.13.0)\n",
      "Requirement already satisfied: typing-extensions<5.0.0,>=4.13.2 in c:\\users\\aswpras\\appdata\\local\\programs\\python\\python313\\lib\\site-packages (from bedrock-agentcore->-r requirements.txt (line 4)) (4.14.1)\n",
      "Requirement already satisfied: urllib3>=1.26.0 in c:\\users\\aswpras\\appdata\\local\\programs\\python\\python313\\lib\\site-packages (from bedrock-agentcore->-r requirements.txt (line 4)) (2.5.0)\n",
      "Requirement already satisfied: uvicorn>=0.34.2 in c:\\users\\aswpras\\appdata\\local\\programs\\python\\python313\\lib\\site-packages (from bedrock-agentcore->-r requirements.txt (line 4)) (0.35.0)\n",
      "Requirement already satisfied: autopep8>=2.3.2 in c:\\users\\aswpras\\appdata\\local\\programs\\python\\python313\\lib\\site-packages (from bedrock-agentcore-starter-toolkit->-r requirements.txt (line 5)) (2.3.2)\n",
      "Requirement already satisfied: docstring-parser<1.0,>=0.15 in c:\\users\\aswpras\\appdata\\local\\programs\\python\\python313\\lib\\site-packages (from bedrock-agentcore-starter-toolkit->-r requirements.txt (line 5)) (0.17.0)\n",
      "Requirement already satisfied: jinja2>=3.1.6 in c:\\users\\aswpras\\appdata\\local\\programs\\python\\python313\\lib\\site-packages (from bedrock-agentcore-starter-toolkit->-r requirements.txt (line 5)) (3.1.6)\n",
      "Requirement already satisfied: openapi-spec-validator>=0.7.2 in c:\\users\\aswpras\\appdata\\local\\programs\\python\\python313\\lib\\site-packages (from bedrock-agentcore-starter-toolkit->-r requirements.txt (line 5)) (0.7.2)\n",
      "Requirement already satisfied: prance>=25.4.8.0 in c:\\users\\aswpras\\appdata\\local\\programs\\python\\python313\\lib\\site-packages (from bedrock-agentcore-starter-toolkit->-r requirements.txt (line 5)) (25.4.8.0)\n",
      "Requirement already satisfied: py-openapi-schema-to-json-schema>=0.0.3 in c:\\users\\aswpras\\appdata\\local\\programs\\python\\python313\\lib\\site-packages (from bedrock-agentcore-starter-toolkit->-r requirements.txt (line 5)) (0.0.3)\n",
      "Requirement already satisfied: questionary>=2.1.0 in c:\\users\\aswpras\\appdata\\local\\programs\\python\\python313\\lib\\site-packages (from bedrock-agentcore-starter-toolkit->-r requirements.txt (line 5)) (2.1.0)\n",
      "Requirement already satisfied: ruamel-yaml>=0.18.14 in c:\\users\\aswpras\\appdata\\local\\programs\\python\\python313\\lib\\site-packages (from bedrock-agentcore-starter-toolkit->-r requirements.txt (line 5)) (0.18.14)\n",
      "Requirement already satisfied: toml>=0.10.2 in c:\\users\\aswpras\\appdata\\local\\programs\\python\\python313\\lib\\site-packages (from bedrock-agentcore-starter-toolkit->-r requirements.txt (line 5)) (0.10.2)\n",
      "Requirement already satisfied: typer>=0.16.0 in c:\\users\\aswpras\\appdata\\local\\programs\\python\\python313\\lib\\site-packages (from bedrock-agentcore-starter-toolkit->-r requirements.txt (line 5)) (0.16.0)\n",
      "Requirement already satisfied: pycodestyle>=2.12.0 in c:\\users\\aswpras\\appdata\\local\\programs\\python\\python313\\lib\\site-packages (from autopep8>=2.3.2->bedrock-agentcore-starter-toolkit->-r requirements.txt (line 5)) (2.14.0)\n",
      "Requirement already satisfied: python-dateutil<3.0.0,>=2.1 in c:\\users\\aswpras\\appdata\\local\\programs\\python\\python313\\lib\\site-packages (from botocore<1.40.0,>=1.39.15->boto3->-r requirements.txt (line 3)) (2.9.0.post0)\n",
      "Requirement already satisfied: certifi in c:\\users\\aswpras\\appdata\\local\\programs\\python\\python313\\lib\\site-packages (from httpx>=0.27->pydantic-ai-slim==0.7.0->pydantic-ai-slim[ag-ui,anthropic,bedrock,cli,cohere,evals,google,groq,huggingface,mcp,mistral,openai,retries,temporal,vertexai]==0.7.0->pydantic-ai->-r requirements.txt (line 1)) (2025.6.15)\n",
      "Requirement already satisfied: httpcore==1.* in c:\\users\\aswpras\\appdata\\local\\programs\\python\\python313\\lib\\site-packages (from httpx>=0.27->pydantic-ai-slim==0.7.0->pydantic-ai-slim[ag-ui,anthropic,bedrock,cli,cohere,evals,google,groq,huggingface,mcp,mistral,openai,retries,temporal,vertexai]==0.7.0->pydantic-ai->-r requirements.txt (line 1)) (1.0.9)\n",
      "Requirement already satisfied: idna in c:\\users\\aswpras\\appdata\\local\\programs\\python\\python313\\lib\\site-packages (from httpx>=0.27->pydantic-ai-slim==0.7.0->pydantic-ai-slim[ag-ui,anthropic,bedrock,cli,cohere,evals,google,groq,huggingface,mcp,mistral,openai,retries,temporal,vertexai]==0.7.0->pydantic-ai->-r requirements.txt (line 1)) (3.10)\n",
      "Requirement already satisfied: h11>=0.16 in c:\\users\\aswpras\\appdata\\local\\programs\\python\\python313\\lib\\site-packages (from httpcore==1.*->httpx>=0.27->pydantic-ai-slim==0.7.0->pydantic-ai-slim[ag-ui,anthropic,bedrock,cli,cohere,evals,google,groq,huggingface,mcp,mistral,openai,retries,temporal,vertexai]==0.7.0->pydantic-ai->-r requirements.txt (line 1)) (0.16.0)\n",
      "Requirement already satisfied: MarkupSafe>=2.0 in c:\\users\\aswpras\\appdata\\local\\programs\\python\\python313\\lib\\site-packages (from jinja2>=3.1.6->bedrock-agentcore-starter-toolkit->-r requirements.txt (line 5)) (3.0.2)\n",
      "Requirement already satisfied: jsonschema<5.0.0,>=4.18.0 in c:\\users\\aswpras\\appdata\\local\\programs\\python\\python313\\lib\\site-packages (from openapi-spec-validator>=0.7.2->bedrock-agentcore-starter-toolkit->-r requirements.txt (line 5)) (4.25.0)\n",
      "Requirement already satisfied: jsonschema-path<0.4.0,>=0.3.1 in c:\\users\\aswpras\\appdata\\local\\programs\\python\\python313\\lib\\site-packages (from openapi-spec-validator>=0.7.2->bedrock-agentcore-starter-toolkit->-r requirements.txt (line 5)) (0.3.4)\n",
      "Requirement already satisfied: lazy-object-proxy<2.0.0,>=1.7.1 in c:\\users\\aswpras\\appdata\\local\\programs\\python\\python313\\lib\\site-packages (from openapi-spec-validator>=0.7.2->bedrock-agentcore-starter-toolkit->-r requirements.txt (line 5)) (1.11.0)\n",
      "Requirement already satisfied: openapi-schema-validator<0.7.0,>=0.6.0 in c:\\users\\aswpras\\appdata\\local\\programs\\python\\python313\\lib\\site-packages (from openapi-spec-validator>=0.7.2->bedrock-agentcore-starter-toolkit->-r requirements.txt (line 5)) (0.6.3)\n",
      "Requirement already satisfied: chardet>=5.2 in c:\\users\\aswpras\\appdata\\local\\programs\\python\\python313\\lib\\site-packages (from prance>=25.4.8.0->bedrock-agentcore-starter-toolkit->-r requirements.txt (line 5)) (5.2.0)\n",
      "Requirement already satisfied: packaging>=24.2 in c:\\users\\aswpras\\appdata\\local\\programs\\python\\python313\\lib\\site-packages (from prance>=25.4.8.0->bedrock-agentcore-starter-toolkit->-r requirements.txt (line 5)) (25.0)\n",
      "Requirement already satisfied: wcwidth in c:\\users\\aswpras\\appdata\\roaming\\python\\python313\\site-packages (from prompt-toolkit>=3->pydantic-ai-slim[ag-ui,anthropic,bedrock,cli,cohere,evals,google,groq,huggingface,mcp,mistral,openai,retries,temporal,vertexai]==0.7.0->pydantic-ai->-r requirements.txt (line 1)) (0.2.13)\n",
      "Requirement already satisfied: annotated-types>=0.6.0 in c:\\users\\aswpras\\appdata\\local\\programs\\python\\python313\\lib\\site-packages (from pydantic>=2.10->pydantic-ai-slim==0.7.0->pydantic-ai-slim[ag-ui,anthropic,bedrock,cli,cohere,evals,google,groq,huggingface,mcp,mistral,openai,retries,temporal,vertexai]==0.7.0->pydantic-ai->-r requirements.txt (line 1)) (0.7.0)\n",
      "Requirement already satisfied: pydantic-core==2.33.2 in c:\\users\\aswpras\\appdata\\local\\programs\\python\\python313\\lib\\site-packages (from pydantic>=2.10->pydantic-ai-slim==0.7.0->pydantic-ai-slim[ag-ui,anthropic,bedrock,cli,cohere,evals,google,groq,huggingface,mcp,mistral,openai,retries,temporal,vertexai]==0.7.0->pydantic-ai->-r requirements.txt (line 1)) (2.33.2)\n",
      "Requirement already satisfied: charset_normalizer<4,>=2 in c:\\users\\aswpras\\appdata\\local\\programs\\python\\python313\\lib\\site-packages (from requests>=2.32.2->pydantic-ai-slim[ag-ui,anthropic,bedrock,cli,cohere,evals,google,groq,huggingface,mcp,mistral,openai,retries,temporal,vertexai]==0.7.0->pydantic-ai->-r requirements.txt (line 1)) (3.4.2)\n",
      "Requirement already satisfied: markdown-it-py>=2.2.0 in c:\\users\\aswpras\\appdata\\local\\programs\\python\\python313\\lib\\site-packages (from rich>=13->pydantic-ai-slim[ag-ui,anthropic,bedrock,cli,cohere,evals,google,groq,huggingface,mcp,mistral,openai,retries,temporal,vertexai]==0.7.0->pydantic-ai->-r requirements.txt (line 1)) (4.0.0)\n",
      "Requirement already satisfied: pygments<3.0.0,>=2.13.0 in c:\\users\\aswpras\\appdata\\roaming\\python\\python313\\site-packages (from rich>=13->pydantic-ai-slim[ag-ui,anthropic,bedrock,cli,cohere,evals,google,groq,huggingface,mcp,mistral,openai,retries,temporal,vertexai]==0.7.0->pydantic-ai->-r requirements.txt (line 1)) (2.19.2)\n",
      "Requirement already satisfied: ruamel.yaml.clib>=0.2.7 in c:\\users\\aswpras\\appdata\\local\\programs\\python\\python313\\lib\\site-packages (from ruamel-yaml>=0.18.14->bedrock-agentcore-starter-toolkit->-r requirements.txt (line 5)) (0.2.12)\n",
      "Requirement already satisfied: click>=8.0.0 in c:\\users\\aswpras\\appdata\\local\\programs\\python\\python313\\lib\\site-packages (from typer>=0.16.0->bedrock-agentcore-starter-toolkit->-r requirements.txt (line 5)) (8.2.1)\n",
      "Requirement already satisfied: shellingham>=1.3.0 in c:\\users\\aswpras\\appdata\\local\\programs\\python\\python313\\lib\\site-packages (from typer>=0.16.0->bedrock-agentcore-starter-toolkit->-r requirements.txt (line 5)) (1.5.4)\n",
      "Requirement already satisfied: distro<2,>=1.7.0 in c:\\users\\aswpras\\appdata\\local\\programs\\python\\python313\\lib\\site-packages (from anthropic>=0.61.0->pydantic-ai-slim[ag-ui,anthropic,bedrock,cli,cohere,evals,google,groq,huggingface,mcp,mistral,openai,retries,temporal,vertexai]==0.7.0->pydantic-ai->-r requirements.txt (line 1)) (1.9.0)\n",
      "Requirement already satisfied: jiter<1,>=0.4.0 in c:\\users\\aswpras\\appdata\\local\\programs\\python\\python313\\lib\\site-packages (from anthropic>=0.61.0->pydantic-ai-slim[ag-ui,anthropic,bedrock,cli,cohere,evals,google,groq,huggingface,mcp,mistral,openai,retries,temporal,vertexai]==0.7.0->pydantic-ai->-r requirements.txt (line 1)) (0.10.0)\n",
      "Requirement already satisfied: sniffio in c:\\users\\aswpras\\appdata\\local\\programs\\python\\python313\\lib\\site-packages (from anthropic>=0.61.0->pydantic-ai-slim[ag-ui,anthropic,bedrock,cli,cohere,evals,google,groq,huggingface,mcp,mistral,openai,retries,temporal,vertexai]==0.7.0->pydantic-ai->-r requirements.txt (line 1)) (1.3.1)\n",
      "Requirement already satisfied: colorama in c:\\users\\aswpras\\appdata\\local\\programs\\python\\python313\\lib\\site-packages (from click>=8.0.0->typer>=0.16.0->bedrock-agentcore-starter-toolkit->-r requirements.txt (line 5)) (0.4.6)\n",
      "Requirement already satisfied: fastavro<2.0.0,>=1.9.4 in c:\\users\\aswpras\\appdata\\local\\programs\\python\\python313\\lib\\site-packages (from cohere>=5.16.0->pydantic-ai-slim[ag-ui,anthropic,bedrock,cli,cohere,evals,google,groq,huggingface,mcp,mistral,openai,retries,temporal,vertexai]==0.7.0->pydantic-ai->-r requirements.txt (line 1)) (1.12.0)\n",
      "Requirement already satisfied: httpx-sse==0.4.0 in c:\\users\\aswpras\\appdata\\local\\programs\\python\\python313\\lib\\site-packages (from cohere>=5.16.0->pydantic-ai-slim[ag-ui,anthropic,bedrock,cli,cohere,evals,google,groq,huggingface,mcp,mistral,openai,retries,temporal,vertexai]==0.7.0->pydantic-ai->-r requirements.txt (line 1)) (0.4.0)\n",
      "Requirement already satisfied: tokenizers<1,>=0.15 in c:\\users\\aswpras\\appdata\\local\\programs\\python\\python313\\lib\\site-packages (from cohere>=5.16.0->pydantic-ai-slim[ag-ui,anthropic,bedrock,cli,cohere,evals,google,groq,huggingface,mcp,mistral,openai,retries,temporal,vertexai]==0.7.0->pydantic-ai->-r requirements.txt (line 1)) (0.21.4)\n",
      "Requirement already satisfied: types-requests<3.0.0,>=2.0.0 in c:\\users\\aswpras\\appdata\\local\\programs\\python\\python313\\lib\\site-packages (from cohere>=5.16.0->pydantic-ai-slim[ag-ui,anthropic,bedrock,cli,cohere,evals,google,groq,huggingface,mcp,mistral,openai,retries,temporal,vertexai]==0.7.0->pydantic-ai->-r requirements.txt (line 1)) (2.32.4.20250809)\n",
      "Requirement already satisfied: cachetools<6.0,>=2.0.0 in c:\\users\\aswpras\\appdata\\local\\programs\\python\\python313\\lib\\site-packages (from google-auth>=2.36.0->pydantic-ai-slim[ag-ui,anthropic,bedrock,cli,cohere,evals,google,groq,huggingface,mcp,mistral,openai,retries,temporal,vertexai]==0.7.0->pydantic-ai->-r requirements.txt (line 1)) (5.5.2)\n",
      "Requirement already satisfied: pyasn1-modules>=0.2.1 in c:\\users\\aswpras\\appdata\\local\\programs\\python\\python313\\lib\\site-packages (from google-auth>=2.36.0->pydantic-ai-slim[ag-ui,anthropic,bedrock,cli,cohere,evals,google,groq,huggingface,mcp,mistral,openai,retries,temporal,vertexai]==0.7.0->pydantic-ai->-r requirements.txt (line 1)) (0.4.2)\n",
      "Requirement already satisfied: rsa<5,>=3.1.4 in c:\\users\\aswpras\\appdata\\local\\programs\\python\\python313\\lib\\site-packages (from google-auth>=2.36.0->pydantic-ai-slim[ag-ui,anthropic,bedrock,cli,cohere,evals,google,groq,huggingface,mcp,mistral,openai,retries,temporal,vertexai]==0.7.0->pydantic-ai->-r requirements.txt (line 1)) (4.7.2)\n",
      "Requirement already satisfied: websockets<15.1.0,>=13.0.0 in c:\\users\\aswpras\\appdata\\local\\programs\\python\\python313\\lib\\site-packages (from google-genai>=1.28.0->pydantic-ai-slim[ag-ui,anthropic,bedrock,cli,cohere,evals,google,groq,huggingface,mcp,mistral,openai,retries,temporal,vertexai]==0.7.0->pydantic-ai->-r requirements.txt (line 1)) (15.0.1)\n",
      "Requirement already satisfied: filelock in c:\\users\\aswpras\\appdata\\local\\programs\\python\\python313\\lib\\site-packages (from huggingface-hub>=0.33.5->huggingface-hub[inference]>=0.33.5; extra == \"huggingface\"->pydantic-ai-slim[ag-ui,anthropic,bedrock,cli,cohere,evals,google,groq,huggingface,mcp,mistral,openai,retries,temporal,vertexai]==0.7.0->pydantic-ai->-r requirements.txt (line 1)) (3.18.0)\n",
      "Requirement already satisfied: fsspec>=2023.5.0 in c:\\users\\aswpras\\appdata\\local\\programs\\python\\python313\\lib\\site-packages (from huggingface-hub>=0.33.5->huggingface-hub[inference]>=0.33.5; extra == \"huggingface\"->pydantic-ai-slim[ag-ui,anthropic,bedrock,cli,cohere,evals,google,groq,huggingface,mcp,mistral,openai,retries,temporal,vertexai]==0.7.0->pydantic-ai->-r requirements.txt (line 1)) (2025.7.0)\n",
      "Requirement already satisfied: tqdm>=4.42.1 in c:\\users\\aswpras\\appdata\\local\\programs\\python\\python313\\lib\\site-packages (from huggingface-hub>=0.33.5->huggingface-hub[inference]>=0.33.5; extra == \"huggingface\"->pydantic-ai-slim[ag-ui,anthropic,bedrock,cli,cohere,evals,google,groq,huggingface,mcp,mistral,openai,retries,temporal,vertexai]==0.7.0->pydantic-ai->-r requirements.txt (line 1)) (4.67.1)\n",
      "Requirement already satisfied: aiohttp in c:\\users\\aswpras\\appdata\\local\\programs\\python\\python313\\lib\\site-packages (from huggingface-hub[inference]>=0.33.5; extra == \"huggingface\"->pydantic-ai-slim[ag-ui,anthropic,bedrock,cli,cohere,evals,google,groq,huggingface,mcp,mistral,openai,retries,temporal,vertexai]==0.7.0->pydantic-ai->-r requirements.txt (line 1)) (3.12.15)\n",
      "Requirement already satisfied: attrs>=22.2.0 in c:\\users\\aswpras\\appdata\\local\\programs\\python\\python313\\lib\\site-packages (from jsonschema<5.0.0,>=4.18.0->openapi-spec-validator>=0.7.2->bedrock-agentcore-starter-toolkit->-r requirements.txt (line 5)) (25.3.0)\n",
      "Requirement already satisfied: jsonschema-specifications>=2023.03.6 in c:\\users\\aswpras\\appdata\\local\\programs\\python\\python313\\lib\\site-packages (from jsonschema<5.0.0,>=4.18.0->openapi-spec-validator>=0.7.2->bedrock-agentcore-starter-toolkit->-r requirements.txt (line 5)) (2025.4.1)\n",
      "Requirement already satisfied: referencing>=0.28.4 in c:\\users\\aswpras\\appdata\\local\\programs\\python\\python313\\lib\\site-packages (from jsonschema<5.0.0,>=4.18.0->openapi-spec-validator>=0.7.2->bedrock-agentcore-starter-toolkit->-r requirements.txt (line 5)) (0.36.2)\n",
      "Requirement already satisfied: rpds-py>=0.7.1 in c:\\users\\aswpras\\appdata\\local\\programs\\python\\python313\\lib\\site-packages (from jsonschema<5.0.0,>=4.18.0->openapi-spec-validator>=0.7.2->bedrock-agentcore-starter-toolkit->-r requirements.txt (line 5)) (0.27.0)\n",
      "Requirement already satisfied: pathable<0.5.0,>=0.4.1 in c:\\users\\aswpras\\appdata\\local\\programs\\python\\python313\\lib\\site-packages (from jsonschema-path<0.4.0,>=0.3.1->openapi-spec-validator>=0.7.2->bedrock-agentcore-starter-toolkit->-r requirements.txt (line 5)) (0.4.4)\n",
      "Requirement already satisfied: mdurl~=0.1 in c:\\users\\aswpras\\appdata\\local\\programs\\python\\python313\\lib\\site-packages (from markdown-it-py>=2.2.0->rich>=13->pydantic-ai-slim[ag-ui,anthropic,bedrock,cli,cohere,evals,google,groq,huggingface,mcp,mistral,openai,retries,temporal,vertexai]==0.7.0->pydantic-ai->-r requirements.txt (line 1)) (0.1.2)\n",
      "Requirement already satisfied: pydantic-settings>=2.5.2 in c:\\users\\aswpras\\appdata\\local\\programs\\python\\python313\\lib\\site-packages (from mcp>=1.10.0->pydantic-ai-slim[ag-ui,anthropic,bedrock,cli,cohere,evals,google,groq,huggingface,mcp,mistral,openai,retries,temporal,vertexai]==0.7.0->pydantic-ai->-r requirements.txt (line 1)) (2.10.1)\n",
      "Requirement already satisfied: python-multipart>=0.0.9 in c:\\users\\aswpras\\appdata\\local\\programs\\python\\python313\\lib\\site-packages (from mcp>=1.10.0->pydantic-ai-slim[ag-ui,anthropic,bedrock,cli,cohere,evals,google,groq,huggingface,mcp,mistral,openai,retries,temporal,vertexai]==0.7.0->pydantic-ai->-r requirements.txt (line 1)) (0.0.20)\n",
      "Requirement already satisfied: pywin32>=310 in c:\\users\\aswpras\\appdata\\local\\programs\\python\\python313\\lib\\site-packages (from mcp>=1.10.0->pydantic-ai-slim[ag-ui,anthropic,bedrock,cli,cohere,evals,google,groq,huggingface,mcp,mistral,openai,retries,temporal,vertexai]==0.7.0->pydantic-ai->-r requirements.txt (line 1)) (311)\n",
      "Requirement already satisfied: sse-starlette>=1.6.1 in c:\\users\\aswpras\\appdata\\local\\programs\\python\\python313\\lib\\site-packages (from mcp>=1.10.0->pydantic-ai-slim[ag-ui,anthropic,bedrock,cli,cohere,evals,google,groq,huggingface,mcp,mistral,openai,retries,temporal,vertexai]==0.7.0->pydantic-ai->-r requirements.txt (line 1)) (3.0.2)\n",
      "Requirement already satisfied: rfc3339-validator in c:\\users\\aswpras\\appdata\\local\\programs\\python\\python313\\lib\\site-packages (from openapi-schema-validator<0.7.0,>=0.6.0->openapi-spec-validator>=0.7.2->bedrock-agentcore-starter-toolkit->-r requirements.txt (line 5)) (0.1.4)\n",
      "Requirement already satisfied: importlib-metadata<8.8.0,>=6.0 in c:\\users\\aswpras\\appdata\\local\\programs\\python\\python313\\lib\\site-packages (from opentelemetry-api>=1.28.0->pydantic-ai-slim==0.7.0->pydantic-ai-slim[ag-ui,anthropic,bedrock,cli,cohere,evals,google,groq,huggingface,mcp,mistral,openai,retries,temporal,vertexai]==0.7.0->pydantic-ai->-r requirements.txt (line 1)) (8.7.0)\n",
      "Requirement already satisfied: six>=1.5 in c:\\users\\aswpras\\appdata\\local\\programs\\python\\python313\\lib\\site-packages (from python-dateutil<3.0.0,>=2.1->botocore<1.40.0,>=1.39.15->boto3->-r requirements.txt (line 3)) (1.17.0)\n",
      "Requirement already satisfied: nexus-rpc==1.1.0 in c:\\users\\aswpras\\appdata\\local\\programs\\python\\python313\\lib\\site-packages (from temporalio>=1.15.0->pydantic-ai-slim[ag-ui,anthropic,bedrock,cli,cohere,evals,google,groq,huggingface,mcp,mistral,openai,retries,temporal,vertexai]==0.7.0->pydantic-ai->-r requirements.txt (line 1)) (1.1.0)\n",
      "Requirement already satisfied: protobuf<6,>=3.20 in c:\\users\\aswpras\\appdata\\local\\programs\\python\\python313\\lib\\site-packages (from temporalio>=1.15.0->pydantic-ai-slim[ag-ui,anthropic,bedrock,cli,cohere,evals,google,groq,huggingface,mcp,mistral,openai,retries,temporal,vertexai]==0.7.0->pydantic-ai->-r requirements.txt (line 1)) (5.29.5)\n",
      "Requirement already satisfied: types-protobuf>=3.20 in c:\\users\\aswpras\\appdata\\local\\programs\\python\\python313\\lib\\site-packages (from temporalio>=1.15.0->pydantic-ai-slim[ag-ui,anthropic,bedrock,cli,cohere,evals,google,groq,huggingface,mcp,mistral,openai,retries,temporal,vertexai]==0.7.0->pydantic-ai->-r requirements.txt (line 1)) (6.30.2.20250809)\n",
      "Requirement already satisfied: zipp>=3.20 in c:\\users\\aswpras\\appdata\\local\\programs\\python\\python313\\lib\\site-packages (from importlib-metadata<8.8.0,>=6.0->opentelemetry-api>=1.28.0->pydantic-ai-slim==0.7.0->pydantic-ai-slim[ag-ui,anthropic,bedrock,cli,cohere,evals,google,groq,huggingface,mcp,mistral,openai,retries,temporal,vertexai]==0.7.0->pydantic-ai->-r requirements.txt (line 1)) (3.23.0)\n",
      "Requirement already satisfied: pyasn1<0.7.0,>=0.6.1 in c:\\users\\aswpras\\appdata\\local\\programs\\python\\python313\\lib\\site-packages (from pyasn1-modules>=0.2.1->google-auth>=2.36.0->pydantic-ai-slim[ag-ui,anthropic,bedrock,cli,cohere,evals,google,groq,huggingface,mcp,mistral,openai,retries,temporal,vertexai]==0.7.0->pydantic-ai->-r requirements.txt (line 1)) (0.6.1)\n",
      "Requirement already satisfied: python-dotenv>=0.21.0 in c:\\users\\aswpras\\appdata\\local\\programs\\python\\python313\\lib\\site-packages (from pydantic-settings>=2.5.2->mcp>=1.10.0->pydantic-ai-slim[ag-ui,anthropic,bedrock,cli,cohere,evals,google,groq,huggingface,mcp,mistral,openai,retries,temporal,vertexai]==0.7.0->pydantic-ai->-r requirements.txt (line 1)) (1.1.1)\n",
      "Requirement already satisfied: aiohappyeyeballs>=2.5.0 in c:\\users\\aswpras\\appdata\\local\\programs\\python\\python313\\lib\\site-packages (from aiohttp->huggingface-hub[inference]>=0.33.5; extra == \"huggingface\"->pydantic-ai-slim[ag-ui,anthropic,bedrock,cli,cohere,evals,google,groq,huggingface,mcp,mistral,openai,retries,temporal,vertexai]==0.7.0->pydantic-ai->-r requirements.txt (line 1)) (2.6.1)\n",
      "Requirement already satisfied: aiosignal>=1.4.0 in c:\\users\\aswpras\\appdata\\local\\programs\\python\\python313\\lib\\site-packages (from aiohttp->huggingface-hub[inference]>=0.33.5; extra == \"huggingface\"->pydantic-ai-slim[ag-ui,anthropic,bedrock,cli,cohere,evals,google,groq,huggingface,mcp,mistral,openai,retries,temporal,vertexai]==0.7.0->pydantic-ai->-r requirements.txt (line 1)) (1.4.0)\n",
      "Requirement already satisfied: frozenlist>=1.1.1 in c:\\users\\aswpras\\appdata\\local\\programs\\python\\python313\\lib\\site-packages (from aiohttp->huggingface-hub[inference]>=0.33.5; extra == \"huggingface\"->pydantic-ai-slim[ag-ui,anthropic,bedrock,cli,cohere,evals,google,groq,huggingface,mcp,mistral,openai,retries,temporal,vertexai]==0.7.0->pydantic-ai->-r requirements.txt (line 1)) (1.7.0)\n",
      "Requirement already satisfied: multidict<7.0,>=4.5 in c:\\users\\aswpras\\appdata\\local\\programs\\python\\python313\\lib\\site-packages (from aiohttp->huggingface-hub[inference]>=0.33.5; extra == \"huggingface\"->pydantic-ai-slim[ag-ui,anthropic,bedrock,cli,cohere,evals,google,groq,huggingface,mcp,mistral,openai,retries,temporal,vertexai]==0.7.0->pydantic-ai->-r requirements.txt (line 1)) (6.6.4)\n",
      "Requirement already satisfied: propcache>=0.2.0 in c:\\users\\aswpras\\appdata\\local\\programs\\python\\python313\\lib\\site-packages (from aiohttp->huggingface-hub[inference]>=0.33.5; extra == \"huggingface\"->pydantic-ai-slim[ag-ui,anthropic,bedrock,cli,cohere,evals,google,groq,huggingface,mcp,mistral,openai,retries,temporal,vertexai]==0.7.0->pydantic-ai->-r requirements.txt (line 1)) (0.3.2)\n",
      "Requirement already satisfied: yarl<2.0,>=1.17.0 in c:\\users\\aswpras\\appdata\\local\\programs\\python\\python313\\lib\\site-packages (from aiohttp->huggingface-hub[inference]>=0.33.5; extra == \"huggingface\"->pydantic-ai-slim[ag-ui,anthropic,bedrock,cli,cohere,evals,google,groq,huggingface,mcp,mistral,openai,retries,temporal,vertexai]==0.7.0->pydantic-ai->-r requirements.txt (line 1)) (1.20.1)\n"
     ]
    },
    {
     "name": "stderr",
     "output_type": "stream",
     "text": [
      "\n",
      "[notice] A new release of pip is available: 24.3.1 -> 25.2\n",
      "[notice] To update, run: python.exe -m pip install --upgrade pip\n"
     ]
    }
   ],
   "source": [
    "!pip install -r requirements.txt"
   ]
  },
  {
   "cell_type": "code",
   "execution_count": 2,
   "id": "18c86ce4",
   "metadata": {},
   "outputs": [],
   "source": [
    "#Set AWS Region\n",
    "import os\n",
    "region=\"us-east-1\" #set this to AWS region you're using\n",
    "os.environ[\"AWS_REGION\"] = \"us-east-1\"\n",
    "os.environ[\"AWS_DEFAULT_REGION\"] = \"us-east-1\""
   ]
  },
  {
   "cell_type": "code",
   "execution_count": 3,
   "id": "21fbf110",
   "metadata": {},
   "outputs": [],
   "source": [
    "# Only for Jupyernotebook environemnt, not needed for agent running on Agentcore Runtime ( see here -->https://ai.pydantic.dev/troubleshooting/#monitoring-httpx-requests )\n",
    "import nest_asyncio\n",
    "nest_asyncio.apply()"
   ]
  },
  {
   "cell_type": "markdown",
   "id": "04596954",
   "metadata": {},
   "source": [
    "## Preparing your agent for deployment on AgentCore Runtime\n",
    "\n",
    "Let's now deploy our agents to AgentCore Runtime. To do so we need to:\n",
    "* Import the Runtime App with `from bedrock_agentcore.runtime import BedrockAgentCoreApp`\n",
    "* Initialize the App in our code with `app = BedrockAgentCoreApp()`\n",
    "* Decorate the invocation function with the `@app.entrypoint` decorator\n",
    "* Let AgentCoreRuntime control the running of the agent with `app.run()`\n",
    "\n"
   ]
  },
  {
   "cell_type": "code",
   "execution_count": 4,
   "id": "299cc727",
   "metadata": {},
   "outputs": [
    {
     "name": "stdout",
     "output_type": "stream",
     "text": [
      "Overwriting pydantic_bedrock_claude.py\n"
     ]
    }
   ],
   "source": [
    "%%writefile pydantic_bedrock_claude.py\n",
    "\n",
    "from pydantic_ai.agent import Agent, RunContext\n",
    "\n",
    "from datetime import datetime\n",
    "import json\n",
    "from bedrock_agentcore.runtime import BedrockAgentCoreApp\n",
    "from pydantic_ai.models.bedrock import BedrockConverseModel\n",
    "\n",
    "app = BedrockAgentCoreApp()\n",
    "\n",
    "model = BedrockConverseModel('us.anthropic.claude-sonnet-4-20250514-v1:0')\n",
    "dummy_agent = Agent(\n",
    "    model=model,\n",
    "    system_prompt=\"You're a helpful assistant.Use the tools available for you to answer questions.\"\n",
    "    \n",
    ")\n",
    "\n",
    "@dummy_agent.tool  \n",
    "def get_current_date(ctx: RunContext[datetime]):\n",
    "  print(\"Getting current date...\")\n",
    "  current_date = datetime.now().strftime(\"%Y-%m-%d %H:%M:%S\")\n",
    "  return current_date\n",
    "\n",
    "\n",
    "@dummy_agent.tool\n",
    "def get_weather(ctx: RunContext[str]):\n",
    "        # Simulated weather data\n",
    "  return f\"Sunny\"\n",
    "\n",
    "@app.entrypoint\n",
    "def pydantic_bedrock_claude_main(payload):\n",
    "  \"\"\"\n",
    "   Invoke the agent with a payload\n",
    "  \"\"\"\n",
    "  user_input = payload.get(\"prompt\")\n",
    "  result = dummy_agent.run_sync(user_input)\n",
    "  print(result.output)\n",
    "  return result.output\n",
    "\n",
    "\n",
    "if __name__ == \"__main__\":\n",
    "    app.run()"
   ]
  },
  {
   "cell_type": "markdown",
   "id": "43319279",
   "metadata": {},
   "source": [
    "## What happens behind the scenes?\n",
    "\n",
    "When you use `BedrockAgentCoreApp`, it automatically:\n",
    "\n",
    "* Creates an HTTP server that listens on the port 8080\n",
    "* Implements the required `/invocations` endpoint for processing the agent's requirements\n",
    "* Implements the `/ping` endpoint for health checks (very important for asynchronous agents)\n",
    "* Handles proper content types and response formats\n",
    "* Manages error handling according to the AWS standards"
   ]
  },
  {
   "cell_type": "markdown",
   "id": "908b7cad",
   "metadata": {},
   "source": [
    "### Configure AgentCore Runtime deployment\n",
    "\n",
    "Next we will use our starter toolkit to configure the AgentCore Runtime deployment with an entrypoint, the execution role we just created and a requirements file. We will also configure the starter kit to auto create the Amazon ECR repository on launch.\n",
    "\n",
    "During the configure step, your docker file will be generated based on your application code\n",
    "\n",
    "<div style=\"text-align:left\">\n",
    "    <img src=\"images/configure.png\" width=\"60%\"/>\n",
    "</div>"
   ]
  },
  {
   "cell_type": "code",
   "execution_count": null,
   "id": "306ee781",
   "metadata": {},
   "outputs": [],
   "source": [
    "from bedrock_agentcore_starter_toolkit import Runtime\n",
    "from boto3.session import Session\n",
    "boto_session = Session()\n",
    "region = boto_session.region_name\n",
    "region\n",
    "\n",
    "agentcore_runtime = Runtime()\n",
    "agent_name=\"agentcore_pydantic_bedrockclaude\"\n",
    "response = agentcore_runtime.configure(\n",
    "    entrypoint=\"pydantic_bedrock_claude.py\",\n",
    "    auto_create_execution_role=True,\n",
    "    auto_create_ecr=True,\n",
    "    requirements_file=\"requirements.txt\",\n",
    "    region=region,\n",
    "    agent_name=agent_name\n",
    ")\n",
    "response"
   ]
  },
  {
   "cell_type": "markdown",
   "id": "843a156c",
   "metadata": {},
   "source": [
    "### Launching agent to AgentCore Runtime\n",
    "\n",
    "Now that we've got a docker file, let's launch the agent to the AgentCore Runtime. This will create the Amazon ECR repository and the AgentCore Runtime\n",
    "\n",
    "<div style=\"text-align:left\">\n",
    "    <img src=\"images/launch.png\" width=\"75%\"/>\n",
    "</div>"
   ]
  },
  {
   "cell_type": "code",
   "execution_count": null,
   "id": "c3c658d8",
   "metadata": {},
   "outputs": [],
   "source": [
    "launch_result = agentcore_runtime.launch()"
   ]
  },
  {
   "cell_type": "markdown",
   "id": "00e0d8b9",
   "metadata": {},
   "source": [
    "### Checking for the AgentCore Runtime Status\n",
    "Now that we've deployed the AgentCore Runtime, let's check for it's deployment status"
   ]
  },
  {
   "cell_type": "code",
   "execution_count": null,
   "id": "def9e509",
   "metadata": {},
   "outputs": [],
   "source": [
    "import time\n",
    "status_response = agentcore_runtime.status()\n",
    "status = status_response.endpoint['status']\n",
    "end_status = ['READY', 'CREATE_FAILED', 'DELETE_FAILED', 'UPDATE_FAILED']\n",
    "while status not in end_status:\n",
    "    time.sleep(10)\n",
    "    status_response = agentcore_runtime.status()\n",
    "    status = status_response.endpoint['status']\n",
    "    print(status)\n",
    "status"
   ]
  },
  {
   "cell_type": "markdown",
   "id": "f3bdcbc4",
   "metadata": {},
   "source": [
    "### Invoking AgentCore Runtime\n",
    "\n",
    "Finally, we can invoke our AgentCore Runtime with a payload\n",
    "\n",
    "<div style=\"text-align:left\">\n",
    "    <img src=\"images/invoke.png\" width=75%\"/>\n",
    "</div>"
   ]
  },
  {
   "cell_type": "code",
   "execution_count": null,
   "id": "14daf53f",
   "metadata": {},
   "outputs": [],
   "source": [
    "invoke_response = agentcore_runtime.invoke({\"prompt\": \"How is the weather now?\"})\n",
    "invoke_response"
   ]
  },
  {
   "cell_type": "markdown",
   "id": "7543f6ff",
   "metadata": {},
   "source": [
    "### Processing invocation results\n",
    "\n",
    "We can now process our invocation results to include it in an application"
   ]
  },
  {
   "cell_type": "code",
   "execution_count": null,
   "id": "b7484223",
   "metadata": {},
   "outputs": [],
   "source": [
    "from IPython.display import Markdown, display\n",
    "import json\n",
    "response_text = json.loads(invoke_response['response'][0].decode(\"utf-8\"))\n",
    "display(Markdown(response_text))"
   ]
  },
  {
   "cell_type": "markdown",
   "id": "8401dec2",
   "metadata": {},
   "source": [
    "### Invoking AgentCore Runtime with boto3\n",
    "\n",
    "Now that your AgentCore Runtime was created you can invoke it with any AWS SDK. For instance, you can use the boto3 `invoke_agent_runtime` method for it."
   ]
  },
  {
   "cell_type": "code",
   "execution_count": null,
   "id": "ca571520",
   "metadata": {},
   "outputs": [],
   "source": [
    "import boto3\n",
    "agent_arn = launch_result.agent_arn\n",
    "agentcore_client = boto3.client(\n",
    "    'bedrock-agentcore',\n",
    "    region_name=region\n",
    ")\n",
    "\n",
    "boto3_response = agentcore_client.invoke_agent_runtime(\n",
    "    agentRuntimeArn=agent_arn,\n",
    "    qualifier=\"DEFAULT\",\n",
    "    payload=json.dumps({\"prompt\": \"What is today' date?\"})\n",
    ")\n",
    "if \"text/event-stream\" in boto3_response.get(\"contentType\", \"\"):\n",
    "    content = []\n",
    "    for line in boto3_response[\"response\"].iter_lines(chunk_size=1):\n",
    "        if line:\n",
    "            line = line.decode(\"utf-8\")\n",
    "            if line.startswith(\"data: \"):\n",
    "                line = line[6:]\n",
    "                logger.info(line)\n",
    "                content.append(line)\n",
    "    display(Markdown(\"\\n\".join(content)))\n",
    "else:\n",
    "    try:\n",
    "        events = []\n",
    "        for event in boto3_response.get(\"response\", []):\n",
    "            events.append(event)\n",
    "    except Exception as e:\n",
    "        events = [f\"Error reading EventStream: {e}\"]\n",
    "    display(Markdown(json.loads(events[0].decode(\"utf-8\"))))"
   ]
  },
  {
   "cell_type": "markdown",
   "id": "37ceb0a5",
   "metadata": {},
   "source": [
    "## Cleanup (Optional)\n",
    "\n",
    "Let's now clean up the AgentCore Runtime created"
   ]
  },
  {
   "cell_type": "code",
   "execution_count": null,
   "id": "2949ff14",
   "metadata": {},
   "outputs": [],
   "source": [
    "launch_result.ecr_uri, launch_result.agent_id, launch_result.ecr_uri.split('/')[1]"
   ]
  },
  {
   "cell_type": "code",
   "execution_count": null,
   "id": "b90257b9",
   "metadata": {},
   "outputs": [],
   "source": [
    "agentcore_control_client = boto3.client(\n",
    "    'bedrock-agentcore-control',\n",
    "    region_name=region\n",
    ")\n",
    "ecr_client = boto3.client(\n",
    "    'ecr',\n",
    "    region_name=region\n",
    "    \n",
    ")\n",
    "\n",
    "runtime_delete_response = agentcore_control_client.delete_agent_runtime(\n",
    "    agentRuntimeId=launch_result.agent_id,\n",
    "    \n",
    ")\n",
    "\n",
    "response = ecr_client.delete_repository(\n",
    "    repositoryName=launch_result.ecr_uri.split('/')[1],\n",
    "    force=True\n",
    ")"
   ]
  },
  {
   "cell_type": "markdown",
   "id": "649bab1c",
   "metadata": {},
   "source": [
    "# Congratulations!"
   ]
  }
 ],
 "metadata": {
  "kernelspec": {
   "display_name": "Python 3",
   "language": "python",
   "name": "python3"
  },
  "language_info": {
   "codemirror_mode": {
    "name": "ipython",
    "version": 3
   },
   "file_extension": ".py",
   "mimetype": "text/x-python",
   "name": "python",
   "nbconvert_exporter": "python",
   "pygments_lexer": "ipython3",
   "version": "3.13.2"
  }
 },
 "nbformat": 4,
 "nbformat_minor": 5
}
